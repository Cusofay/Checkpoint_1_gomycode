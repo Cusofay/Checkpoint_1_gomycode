{
 "cells": [
  {
   "cell_type": "code",
   "execution_count": 6,
   "id": "eb5056f1",
   "metadata": {},
   "outputs": [
    {
     "name": "stdout",
     "output_type": "stream",
     "text": [
      "[2002, 2009, 2016, 2023, 2037, 2044, 2051, 2058, 2072, 2079, 2086, 2093, 2107, 2114, 2121, 2128, 2142, 2149, 2156, 2163, 2177, 2184, 2191, 2198, 2212, 2219, 2226, 2233, 2247, 2254, 2261, 2268, 2282, 2289, 2296, 2303, 2317, 2324, 2331, 2338, 2352, 2359, 2366, 2373, 2387, 2394, 2401, 2408, 2422, 2429, 2436, 2443, 2457, 2464, 2471, 2478, 2492, 2499, 2506, 2513, 2527, 2534, 2541, 2548, 2562, 2569, 2576, 2583, 2597, 2604, 2611, 2618, 2632, 2639, 2646, 2653, 2667, 2674, 2681, 2688, 2702, 2709, 2716, 2723, 2737, 2744, 2751, 2758, 2772, 2779, 2786, 2793, 2807, 2814, 2821, 2828, 2842, 2849, 2856, 2863, 2877, 2884, 2891, 2898, 2912, 2919, 2926, 2933, 2947, 2954, 2961, 2968, 2982, 2989, 2996, 3003, 3017, 3024, 3031, 3038, 3052, 3059, 3066, 3073, 3087, 3094, 3101, 3108, 3122, 3129, 3136, 3143, 3157, 3164, 3171, 3178, 3192, 3199]\n"
     ]
    }
   ],
   "source": [
    "#Question 1\n",
    "x = 2000\n",
    "list_multiples_of_7 = []\n",
    "while x<=3200 :\n",
    "    if x % 7 == 0 and x % 5 != 0 : \n",
    "        list_multiples_of_7.append(x)\n",
    "    x = x+1   \n",
    "print(list_multiples_of_7)    "
   ]
  },
  {
   "cell_type": "code",
   "execution_count": 11,
   "id": "014a4e13",
   "metadata": {},
   "outputs": [
    {
     "name": "stdout",
     "output_type": "stream",
     "text": [
      "For wich number do you want to compute the factorial?4\n",
      "4 ! = 24\n"
     ]
    }
   ],
   "source": [
    "#Question 2\n",
    "y= input(\"For wich number do you want to compute the factorial?\")\n",
    "factorial_of_n = int(1)\n",
    "n = int(y)\n",
    "N = n\n",
    "if n != 0 :\n",
    "    while n > 0 : \n",
    "        factorial_of_n = factorial_of_n * n\n",
    "        n = n - 1\n",
    "print(N,\"! =\",factorial_of_n)\n",
    "      \n",
    "    \n",
    " \n",
    "    "
   ]
  },
  {
   "cell_type": "code",
   "execution_count": 13,
   "id": "71ae789c",
   "metadata": {},
   "outputs": [
    {
     "name": "stdout",
     "output_type": "stream",
     "text": [
      "The number please:9\n",
      "{1: 1, 2: 4, 3: 9, 4: 16, 5: 25, 6: 36, 7: 49, 8: 64, 9: 81}\n"
     ]
    }
   ],
   "source": [
    "#Question 3\n",
    "a = input(\"The number please:\")\n",
    "b = int(a)\n",
    "c = 1\n",
    "dict_squares = {}\n",
    "while c <= b : \n",
    "    dict_squares[c]= c*c\n",
    "    c=c+1\n",
    "print(dict_squares)\n",
    "    "
   ]
  },
  {
   "cell_type": "code",
   "execution_count": 2,
   "id": "c09828ec",
   "metadata": {},
   "outputs": [
    {
     "name": "stdout",
     "output_type": "stream",
     "text": [
      "Insert word : Cusofay\n",
      "The index : 3\n",
      "Cusfay\n"
     ]
    }
   ],
   "source": [
    "#Questiion 4\n",
    "name = input(\"Insert word : \")\n",
    "nam3 = list(name)\n",
    "value_index_stmg = input(\"The index : \")\n",
    "value_index = int(value_index_stmg)\n",
    "nam3 .pop(value_index)\n",
    "final_name = ''.join(nam3)\n",
    "print(final_name)"
   ]
  },
  {
   "cell_type": "code",
   "execution_count": null,
   "id": "ff59e628",
   "metadata": {},
   "outputs": [],
   "source": [
    "#Question 4 (test)\n",
    "name = input(\"Insert word : \")\n",
    "def check_float(potential_float):\n",
    "    try:\n",
    "        float(potential_float)\n",
    "        return True\n",
    "    except ValueError:\n",
    "        return False\n",
    "\n",
    "if name.isalpha() :\n",
    "    value_index_stmg = input(\"insert index (The index must be an integer, otherwise, the onlyy the integer part of your number will be taken ) : \")\n",
    "\n",
    "    if  check_float(value_index_stmg):\n",
    "        len1 = len(name)\n",
    "        value_index = int(value_index_stmg)\n",
    "        true_len = len1 - 1\n",
    "        true_neg_len = -1 * (len1)\n",
    "        if value_index <= true_len and value_index >= true_neg_len :\n",
    "            nam3 = list(name)\n",
    "            nam3 .pop(value_index)\n",
    "            final_name = ''.join(nam3)\n",
    "            print(final_name)\n",
    "        else :\n",
    "            print (\"The index must be an integer between \",true_neg_len,\" and -1 (negative index) or 0 and \",true_len,\"(positive index). \")\n",
    "    else :  \n",
    "            print(\"The index must be an integer between \",true_neg_len,\" and -1 (negative index) or 0 and \",true_len,\"(positive index). \")      \n",
    "else : \n",
    "    print(\"Insert a word with lettters only !\")\n",
    "    \n",
    "    #Ask is the first input must be letters eclusively\n",
    "    "
   ]
  },
  {
   "cell_type": "code",
   "execution_count": 10,
   "id": "9d6a1709",
   "metadata": {},
   "outputs": [
    {
     "name": "stdout",
     "output_type": "stream",
     "text": [
      "\n",
      "Array:\n",
      "[[0 1]\n",
      " [2 3]\n",
      " [4 5]]\n",
      "\n",
      "List:\n",
      "[[0, 1], [2, 3], [4, 5]]\n"
     ]
    }
   ],
   "source": [
    "#Question 5\n",
    "\n",
    "\n",
    "import numpy as np\n",
    "\n",
    "\n",
    "print(\"\\nArray:\")\n",
    "arr = np.array([[0, 1],\n",
    "[2,3],\n",
    "[4,5]])\n",
    "print(arr)\n",
    "lis = arr.tolist()\n",
    "\n",
    "print(\"\\nList:\")\n",
    "print(lis)\n",
    "\n"
   ]
  },
  {
   "cell_type": "code",
   "execution_count": 22,
   "id": "24a9fe9d",
   "metadata": {},
   "outputs": [
    {
     "name": "stdout",
     "output_type": "stream",
     "text": [
      "\n",
      "Covariance matrix of the two arrays:\n",
      " [[ 1. -1.]\n",
      " [-1.  1.]]\n"
     ]
    }
   ],
   "source": [
    "#Question 6\n",
    "import numpy as np\n",
    "x = np.array([0, 1, 2])\n",
    "y = np.array([2, 1, 0])\n",
    "\n",
    "print(\"\\nCovariance matrix of the two arrays:\\n\",np.cov(x, y))"
   ]
  },
  {
   "cell_type": "code",
   "execution_count": 18,
   "id": "ed609ec4",
   "metadata": {},
   "outputs": [
    {
     "name": "stdout",
     "output_type": "stream",
     "text": [
      "Insert the number (integer) : 15\n",
      "7\n"
     ]
    }
   ],
   "source": [
    "#Question 7\n",
    "d = input(\"Insert the number (integer) : \")\n",
    "if d.isdecimal() :\n",
    "    D = int(d)\n",
    "    C = 50\n",
    "    H = 30\n",
    "    x = (((2*C*D)/H))**(1/2)\n",
    "    y = round(x)\n",
    "    print(y)\n",
    "else : \n",
    "    print(\"The number must be an integer\")\n",
    "  "
   ]
  },
  {
   "cell_type": "code",
   "execution_count": null,
   "id": "88b7fd98",
   "metadata": {},
   "outputs": [],
   "source": []
  }
 ],
 "metadata": {
  "kernelspec": {
   "display_name": "Python 3",
   "language": "python",
   "name": "python3"
  },
  "language_info": {
   "codemirror_mode": {
    "name": "ipython",
    "version": 3
   },
   "file_extension": ".py",
   "mimetype": "text/x-python",
   "name": "python",
   "nbconvert_exporter": "python",
   "pygments_lexer": "ipython3",
   "version": "3.8.8"
  }
 },
 "nbformat": 4,
 "nbformat_minor": 5
}
